{
  "nbformat": 4,
  "nbformat_minor": 0,
  "metadata": {
    "colab": {
      "provenance": [],
      "authorship_tag": "ABX9TyOwh7lZ8SDu58oyOqzo1Rq3",
      "include_colab_link": true
    },
    "kernelspec": {
      "name": "python3",
      "display_name": "Python 3"
    },
    "language_info": {
      "name": "python"
    }
  },
  "cells": [
    {
      "cell_type": "markdown",
      "metadata": {
        "id": "view-in-github",
        "colab_type": "text"
      },
      "source": [
        "<a href=\"https://colab.research.google.com/github/ghoshal7/PDF_extraction/blob/main/PDF_extraction.ipynb\" target=\"_parent\"><img src=\"https://colab.research.google.com/assets/colab-badge.svg\" alt=\"Open In Colab\"/></a>"
      ]
    },
    {
      "cell_type": "code",
      "execution_count": 1,
      "metadata": {
        "colab": {
          "base_uri": "https://localhost:8080/"
        },
        "id": "uaJ5Idhyqbwd",
        "outputId": "a1dbec5b-c2e2-46d7-bb6a-991cba72501d"
      },
      "outputs": [
        {
          "output_type": "stream",
          "name": "stdout",
          "text": [
            "Mounted at /content/drive\n"
          ]
        }
      ],
      "source": [
        "from google.colab import drive\n",
        "drive.mount('/content/drive')"
      ]
    },
    {
      "cell_type": "code",
      "source": [
        "%cd /content/drive/My Drive/PDF_extraction"
      ],
      "metadata": {
        "colab": {
          "base_uri": "https://localhost:8080/"
        },
        "id": "lJ6Tx4fbqesl",
        "outputId": "353e7816-638f-4916-a789-d61bfce91ba5"
      },
      "execution_count": 2,
      "outputs": [
        {
          "output_type": "stream",
          "name": "stdout",
          "text": [
            "/content/drive/My Drive/PDF_extraction\n"
          ]
        }
      ]
    },
    {
      "cell_type": "code",
      "source": [
        "%ls"
      ],
      "metadata": {
        "colab": {
          "base_uri": "https://localhost:8080/"
        },
        "id": "NZw8EhffqlUL",
        "outputId": "531f9769-c633-4e08-9e04-7a9f08b51ea0"
      },
      "execution_count": 3,
      "outputs": [
        {
          "output_type": "stream",
          "name": "stdout",
          "text": [
            " AGS-Lender-Presentation-201801.pdf\n",
            " Altisource_Lender_Presentation_March_2018.pdf\n",
            " Banijay-LenderPresentationPublic-TLBAmendandExtend.pdf\n",
            " Casino-Investor-presentation.pdf\n",
            " century_casinos.pdf\n",
            " entegris_8k.pdf\n",
            " Fluidra.pdf\n",
            " Holley-Credit-Investor-Presentation-October-2021.pdf\n",
            "'IBP_Lender Presentation.pdf'\n",
            " ineos-quattro.pdf\n",
            " Kodak.pdf\n",
            "'Topgolf Callaway Brands Corp Lender Presentation.pdf'\n",
            " Untitled0.ipynb\n"
          ]
        }
      ]
    },
    {
      "cell_type": "code",
      "source": [
        "# !pip install PyPDF2\n",
        "# !pip install pdfminer\n",
        "# !pip install pdfplumber\n",
        "\n",
        "import PyPDF2\n",
        "from pdfminer.high_level import extract_text\n",
        "import pdfplumber"
      ],
      "metadata": {
        "id": "_QMLnq1ntG9l"
      },
      "execution_count": 6,
      "outputs": []
    },
    {
      "cell_type": "code",
      "source": [],
      "metadata": {
        "id": "H5pz1c8C9Ej2"
      },
      "execution_count": null,
      "outputs": []
    },
    {
      "cell_type": "code",
      "source": [
        "def contains_table(text):\n",
        "    # This is a basic heuristic.\n",
        "    # You can refine this function based on more sophisticated patterns or rules.\n",
        "    rows = text.split('\\n')\n",
        "    comma_counts = [row.count(',') for row in rows]\n",
        "    # If multiple rows have multiple commas, it might indicate a table structure.\n",
        "    potential_table_rows = sum(1 for count in comma_counts if count > 1)\n",
        "    return potential_table_rows > 2\n",
        "\n",
        "def find_pages_with_tables(pdf_path):\n",
        "    pages_with_tables = []\n",
        "\n",
        "    # Extract text from each page and check for tables\n",
        "    with open(pdf_path, 'rb') as file:\n",
        "        reader = PyPDF2.PdfReader(file)\n",
        "        total_pages = len(reader.pages)\n",
        "\n",
        "        for page_num in range(total_pages):\n",
        "            text = extract_text(pdf_path, page_numbers=[page_num])\n",
        "            if contains_table(text):\n",
        "                # Page numbers usually start from 1 for users, so we add 1.\n",
        "                pages_with_tables.append(page_num + 1)\n",
        "\n",
        "    return pages_with_tables\n",
        "\n",
        "\n",
        "def find_pages_with_pdfPlumber(pdf_path):\n",
        "  pages_withSU = []\n",
        "\n",
        "  import re\n",
        "  pattern = re.compile(r\"(?i)sources\\s+(&|and)\\s+uses\")  # (?i) makes it case-insensitive\n",
        "\n",
        "  with pdfplumber.open(pdf_path) as pdf:\n",
        "    for page_num in range(len(pdf.pages)):\n",
        "      page = pdf.pages[page_num]\n",
        "      text = page.extract_text()\n",
        "      if pattern.findall(text):\n",
        "        # this page number starts with 0\n",
        "        pages_withSU.append(page_num)\n",
        "\n",
        "  return pages_withSU"
      ],
      "metadata": {
        "id": "hZh53sIVqmRk"
      },
      "execution_count": 98,
      "outputs": []
    },
    {
      "cell_type": "code",
      "source": [
        "pdf_path = \"AGS-Lender-Presentation-201801.pdf\"\n",
        "pages_heuristic = find_pages_with_tables(pdf_path)\n",
        "print(f\"Pages with potential tables: {pages}\")\n",
        "\n",
        "pages_PP = find_pages_with_pdfPlumber(pdf_path)\n",
        "print(f\"Pages with REGEX SU: {pages_PP}\")"
      ],
      "metadata": {
        "colab": {
          "base_uri": "https://localhost:8080/"
        },
        "id": "timVt3vVtFb-",
        "outputId": "e525f79a-79ad-4576-8823-87272ba4a561"
      },
      "execution_count": 102,
      "outputs": [
        {
          "output_type": "stream",
          "name": "stdout",
          "text": [
            "Pages with potential tables: [2, 3, 7]\n",
            "Pages with REGEX SU: [3]\n"
          ]
        }
      ]
    },
    {
      "cell_type": "code",
      "source": [],
      "metadata": {
        "id": "-6uA70SxywI0"
      },
      "execution_count": null,
      "outputs": []
    },
    {
      "cell_type": "code",
      "source": [
        "def extract_term_loan_amount(pdf_path, pages_PP, keyword):\n",
        "    with pdfplumber.open(pdf_path) as pdf:\n",
        "      page = pdf.pages[pages_PP]\n",
        "      text = page.filter(lambda obj:  (obj[\"object_type\"] == \"char\" and obj[\"size\"] > 7))\n",
        "      texts = text.extract_text()\n",
        "      for line in texts.split('\\n'):\n",
        "          if keyword in line:\n",
        "              # Assuming the amount follows the keyword, split by spaces and get the next element\n",
        "              # print(line.split())\n",
        "              max_id = max([line.split().index(i) for i in keyword.split(' ')])\n",
        "              amount = line.split()[max_id+1]\n",
        "              return amount\n",
        "      return None"
      ],
      "metadata": {
        "id": "bEYl6Lkiw5s2"
      },
      "execution_count": 107,
      "outputs": []
    },
    {
      "cell_type": "code",
      "source": [
        "pdf_path = \"AGS-Lender-Presentation-201801.pdf\"\n",
        "pages_PP = find_pages_with_pdfPlumber(pdf_path)\n",
        "print(pages_PP)\n",
        "for key_word in [\"Repriced 1st Lien Term Loan\", \"EBITDA\", \"Equipment Debt\"]:\n",
        "  print(key_word, \" = \", extract_term_loan_amount(pdf_path, pages_PP[0], key_word))"
      ],
      "metadata": {
        "colab": {
          "base_uri": "https://localhost:8080/"
        },
        "id": "mFN1bNCUxBvp",
        "outputId": "64124569-0f1d-4e3f-f492-b6096cfae6f5"
      },
      "execution_count": 109,
      "outputs": [
        {
          "output_type": "stream",
          "name": "stdout",
          "text": [
            "[3]\n",
            "Repriced 1st Lien Term Loan  =  $513\n",
            "EBITDA  =  $104\n",
            "Equipment Debt  =  3\n"
          ]
        }
      ]
    },
    {
      "cell_type": "code",
      "source": [
        "pdf_path = \"Altisource_Lender_Presentation_March_2018.pdf\"\n",
        "pages_PP = find_pages_with_pdfPlumber(pdf_path)\n",
        "\n",
        "for key_word in [\"Repriced 1st Lien Term Loan\", \"EBITDA\", \"Equipment Debt\"]:\n",
        "  print(key_word, \" = \", extract_term_loan_amount(pdf_path, pages_PP[0], key_word))"
      ],
      "metadata": {
        "colab": {
          "base_uri": "https://localhost:8080/"
        },
        "id": "kOe98tpt15X_",
        "outputId": "0d74c97b-091d-4403-fe84-98840b743466"
      },
      "execution_count": 110,
      "outputs": [
        {
          "output_type": "stream",
          "name": "stdout",
          "text": [
            "Repriced 1st Lien Term Loan  =  None\n",
            "EBITDA  =  Adj.\n",
            "Equipment Debt  =  None\n"
          ]
        }
      ]
    },
    {
      "cell_type": "code",
      "source": [
        "pdf_path = \"Banijay-LenderPresentationPublic-TLBAmendandExtend.pdf\"\n",
        "pages_PP = find_pages_with_pdfPlumber(pdf_path)\n",
        "print(pages_PP)\n",
        "for key_word in [\"Term Loan Facilities\", \"Cash from Balance Sheet\", \"Term Loan Facilities\", \"Fees and Expenses\"]:\n",
        "  print(key_word, \" = \", extract_term_loan_amount(pdf_path, pages_PP[0], key_word))"
      ],
      "metadata": {
        "colab": {
          "base_uri": "https://localhost:8080/"
        },
        "id": "S7MFRFFF591Y",
        "outputId": "818f1bbf-03fb-4298-b249-92eef8356f9c"
      },
      "execution_count": 114,
      "outputs": [
        {
          "output_type": "stream",
          "name": "stdout",
          "text": [
            "[6]\n",
            "Term Loan Facilities  =  895\n",
            "Cash from Balance Sheet  =  9\n",
            "Term Loan Facilities  =  895\n",
            "Fees and Expenses  =  24\n"
          ]
        }
      ]
    },
    {
      "cell_type": "code",
      "source": [],
      "metadata": {
        "id": "LjrFStKTBBiA"
      },
      "execution_count": null,
      "outputs": []
    }
  ]
}